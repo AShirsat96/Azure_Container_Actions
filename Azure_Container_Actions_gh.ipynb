{
 "cells": [
  {
   "cell_type": "code",
   "execution_count": 1,
   "id": "ade03f87",
   "metadata": {},
   "outputs": [],
   "source": [
    "#!pip install azure-storage-blob"
   ]
  },
  {
   "cell_type": "code",
   "execution_count": 2,
   "id": "8623d35a",
   "metadata": {},
   "outputs": [],
   "source": [
    "#!pip install azure-mgmt-storage"
   ]
  },
  {
   "cell_type": "code",
   "execution_count": 3,
   "id": "321ab172",
   "metadata": {},
   "outputs": [],
   "source": [
    "import os"
   ]
  },
  {
   "cell_type": "code",
   "execution_count": 4,
   "id": "84143236",
   "metadata": {},
   "outputs": [],
   "source": [
    "import uuid"
   ]
  },
  {
   "cell_type": "code",
   "execution_count": 5,
   "id": "3413dab9",
   "metadata": {},
   "outputs": [],
   "source": [
    "from azure.storage.blob import BlobClient"
   ]
  },
  {
   "cell_type": "code",
   "execution_count": 6,
   "id": "75379981",
   "metadata": {},
   "outputs": [],
   "source": [
    "from azure.core import exceptions"
   ]
  },
  {
   "cell_type": "code",
   "execution_count": 7,
   "id": "fb6878ee",
   "metadata": {},
   "outputs": [],
   "source": [
    "from azure.storage.blob.aio import BlobClient"
   ]
  },
  {
   "cell_type": "code",
   "execution_count": 8,
   "id": "729d36a6",
   "metadata": {},
   "outputs": [],
   "source": [
    "from azure.core import exceptions"
   ]
  },
  {
   "cell_type": "code",
   "execution_count": 9,
   "id": "b63221a3",
   "metadata": {},
   "outputs": [],
   "source": [
    "from azure.storage.blob import BlobServiceClient"
   ]
  },
  {
   "cell_type": "code",
   "execution_count": 10,
   "id": "5b0e3eca",
   "metadata": {},
   "outputs": [],
   "source": [
    "from azure.core.exceptions import ResourceExistsError"
   ]
  },
  {
   "cell_type": "code",
   "execution_count": 11,
   "id": "94e741db",
   "metadata": {},
   "outputs": [],
   "source": [
    "connection_string = <\"your connection string\">"
   ]
  },
  {
   "cell_type": "code",
   "execution_count": 12,
   "id": "ea67d145",
   "metadata": {},
   "outputs": [],
   "source": [
    "blob_service_client = BlobServiceClient.from_connection_string(connection_string)"
   ]
  },
  {
   "cell_type": "code",
   "execution_count": 13,
   "id": "c07fd314",
   "metadata": {},
   "outputs": [],
   "source": [
    "container_name = <\"Mention the container name\">"
   ]
  },
  {
   "cell_type": "markdown",
   "id": "83f5a88b",
   "metadata": {},
   "source": [
    "### Creating a container within a storage account"
   ]
  },
  {
   "cell_type": "code",
   "execution_count": 14,
   "id": "73c59a2b",
   "metadata": {},
   "outputs": [],
   "source": [
    "def create_blob_container(blob_service_client: BlobServiceClient, container_name):\n",
    "    try:\n",
    "        container_client = blob_service_client.create_container(container_name)\n",
    "        print(f\"Container '{container_name}' created successfully.\")\n",
    "    except ResourceExistsError:\n",
    "        print('A container with this name already exists')"
   ]
  },
  {
   "cell_type": "code",
   "execution_count": 15,
   "id": "b3add099",
   "metadata": {},
   "outputs": [
    {
     "name": "stdout",
     "output_type": "stream",
     "text": [
      "Container 'aniketfirstcontainer2' created successfully.\n"
     ]
    }
   ],
   "source": [
    "create_blob_container(blob_service_client,container_name)"
   ]
  },
  {
   "cell_type": "markdown",
   "id": "7442d135",
   "metadata": {},
   "source": [
    "### Listing blob containers"
   ]
  },
  {
   "cell_type": "code",
   "execution_count": 16,
   "id": "e4ce6cf8",
   "metadata": {},
   "outputs": [],
   "source": [
    "def list_containers(blob_service_client: BlobServiceClient):\n",
    "    containers = blob_service_client.list_containers(include_metadata=True)\n",
    "    for container in containers:\n",
    "        print(container['name'], container['metadata'])"
   ]
  },
  {
   "cell_type": "code",
   "execution_count": 17,
   "id": "0ef12110",
   "metadata": {},
   "outputs": [
    {
     "name": "stdout",
     "output_type": "stream",
     "text": [
      "aniketfirstcontainer {}\n",
      "aniketfirstcontainer2 {}\n"
     ]
    }
   ],
   "source": [
    "list_containers(blob_service_client)"
   ]
  },
  {
   "cell_type": "markdown",
   "id": "96ce13b7",
   "metadata": {},
   "source": [
    "### Deleting a container within a Storage Account"
   ]
  },
  {
   "cell_type": "code",
   "execution_count": 18,
   "id": "d795db4f",
   "metadata": {},
   "outputs": [],
   "source": [
    "def delete_container(blob_service_client: BlobServiceClient, container_name):\n",
    "    container_client = blob_service_client.get_container_client(container=container_name)\n",
    "    container_client.delete_container()\n",
    "    print(container_name + \" is successfully deleted.\" )"
   ]
  },
  {
   "cell_type": "code",
   "execution_count": 19,
   "id": "b484916c",
   "metadata": {},
   "outputs": [
    {
     "name": "stdout",
     "output_type": "stream",
     "text": [
      "aniketfirstcontainer2 is successfully deleted.\n"
     ]
    }
   ],
   "source": [
    "delete_container(blob_service_client,container_name)"
   ]
  },
  {
   "cell_type": "code",
   "execution_count": null,
   "id": "2e1cedba",
   "metadata": {},
   "outputs": [],
   "source": []
  }
 ],
 "metadata": {
  "kernelspec": {
   "display_name": "Python 3",
   "language": "python",
   "name": "python3"
  },
  "language_info": {
   "codemirror_mode": {
    "name": "ipython",
    "version": 3
   },
   "file_extension": ".py",
   "mimetype": "text/x-python",
   "name": "python",
   "nbconvert_exporter": "python",
   "pygments_lexer": "ipython3",
   "version": "3.8.8"
  }
 },
 "nbformat": 4,
 "nbformat_minor": 5
}
